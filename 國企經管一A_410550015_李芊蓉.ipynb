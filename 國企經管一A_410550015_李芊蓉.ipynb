{
  "nbformat": 4,
  "nbformat_minor": 0,
  "metadata": {
    "colab": {
      "name": "國企經管一A 410550015 李芊蓉.ipynb",
      "provenance": [],
      "authorship_tag": "ABX9TyNnbhNyRCYI0sJG9rxIGOeS",
      "include_colab_link": true
    },
    "kernelspec": {
      "name": "python3",
      "display_name": "Python 3"
    },
    "language_info": {
      "name": "python"
    }
  },
  "cells": [
    {
      "cell_type": "markdown",
      "metadata": {
        "id": "view-in-github",
        "colab_type": "text"
      },
      "source": [
        "<a href=\"https://colab.research.google.com/github/tku-qian/Introduction-to-Computers/blob/main/%E5%9C%8B%E4%BC%81%E7%B6%93%E7%AE%A1%E4%B8%80A_410550015_%E6%9D%8E%E8%8A%8A%E8%93%89.ipynb\" target=\"_parent\"><img src=\"https://colab.research.google.com/assets/colab-badge.svg\" alt=\"Open In Colab\"/></a>"
      ]
    },
    {
      "cell_type": "code",
      "execution_count": 8,
      "metadata": {
        "id": "lnrX4B8INMPV",
        "colab": {
          "base_uri": "https://localhost:8080/"
        },
        "outputId": "1bd5f35b-f164-4d43-ce2a-57a6ba4b110c"
      },
      "outputs": [
        {
          "output_type": "stream",
          "name": "stdout",
          "text": [
            "金州勇士現在有的球員陣容= ['Curry', 'Green', 'Wiggins', 'Looney', 'Thompson']\n",
            "勇士今天最高的三個得分為 [30, 22, 28] 球員分別為 ['Curry', 'Wiggins', 'Thompson']\n",
            "勇士今天最低的兩個得分為 [5, 6] 球員分別為 ['Green', 'Looney']\n",
            "勇士今天最高得分為 Curry 分數為 30 分\n",
            "勇士今天最低得分為 Green 分數為 5 分\n"
          ]
        }
      ],
      "source": [
        "Player=['Curry','Green','Durant','Looney','Thompson']\n",
        "Player[2] = 'Wiggins'\n",
        "print('金州勇士現在有的球員陣容=',Player)\n",
        "Fraction = [30,5,22,6,28]\n",
        "print('勇士今天最高的三個得分為',Fraction[0:5:2],'球員分別為',Player[0:5:2])\n",
        "print('勇士今天最低的兩個得分為',Fraction[1:4:2],'球員分別為',Player[1:5:2])\n",
        "print('勇士今天最高得分為',Player[0],'分數為',max(Fraction),'分')\n",
        "print('勇士今天最低得分為',Player[1],'分數為',min(Fraction),'分')"
      ]
    },
    {
      "cell_type": "markdown",
      "source": [
        "![image(2).png](data:image/png;base64,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)"
      ],
      "metadata": {
        "id": "2rW0pfzZOTyn"
      }
    }
  ]
}