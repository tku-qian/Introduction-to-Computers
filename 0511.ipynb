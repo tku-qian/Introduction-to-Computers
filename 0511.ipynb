{
  "nbformat": 4,
  "nbformat_minor": 0,
  "metadata": {
    "colab": {
      "name": "0511.ipynb",
      "provenance": [],
      "authorship_tag": "ABX9TyN7g2wo4UH8xggTu9D0lOCR",
      "include_colab_link": true
    },
    "kernelspec": {
      "name": "python3",
      "display_name": "Python 3"
    },
    "language_info": {
      "name": "python"
    }
  },
  "cells": [
    {
      "cell_type": "markdown",
      "metadata": {
        "id": "view-in-github",
        "colab_type": "text"
      },
      "source": [
        "<a href=\"https://colab.research.google.com/github/tku-qian/Introduction-to-Computers/blob/main/0511.ipynb\" target=\"_parent\"><img src=\"https://colab.research.google.com/assets/colab-badge.svg\" alt=\"Open In Colab\"/></a>"
      ]
    },
    {
      "cell_type": "code",
      "execution_count": 11,
      "metadata": {
        "colab": {
          "base_uri": "https://localhost:8080/"
        },
        "id": "ZPsnihhDg44G",
        "outputId": "564f4ec6-b73e-4f05-af51-98e9141bac43"
      },
      "outputs": [
        {
          "output_type": "stream",
          "name": "stdout",
          "text": [
            "請輸入你的體溫33\n",
            "體溫異常，請重新測量!\n"
          ]
        }
      ],
      "source": [
        "temp = float(input('請輸入你的體溫'))\n",
        "if temp >= 37.5:\n",
        "    print('體溫過高!')\n",
        "elif temp >=37 and temp <37.4:\n",
        "    print('體溫略高!')\n",
        "\n",
        "elif temp >=34 and temp<36.9:\n",
        "    print('體溫正常!')\n",
        "else:\n",
        "    print('體溫異常，請重新測量!')"
      ]
    },
    {
      "cell_type": "code",
      "source": [
        "money = int(input('請輸入金額'))\n",
        "if (money >= 10000):\n",
        "    if(money >= 100000):\n",
        "     print('八折',money * 0.8,end = '元\\n')\n",
        "    elif (money >= 50000):\n",
        "     print('八五折',money * 0.85,end = '元\\n')\n",
        "    elif (money >= 30000):\n",
        "     print('九折',money * 0.9,end = '元\\n')\n",
        "    elif (money >= 10000):\n",
        "     print('九五折',money * 0.95,end = '元\\n')\n",
        "else:\n",
        "    print('沒打折',money,end = '元\\n')"
      ],
      "metadata": {
        "colab": {
          "base_uri": "https://localhost:8080/"
        },
        "id": "UxK7zg5dlcDP",
        "outputId": "8ddd9271-522f-44f8-ccc5-fc3295139430"
      },
      "execution_count": 14,
      "outputs": [
        {
          "output_type": "stream",
          "name": "stdout",
          "text": [
            "請輸入金額100000\n",
            "八折 80000.0元\n"
          ]
        }
      ]
    },
    {
      "cell_type": "code",
      "source": [
        "grade = int(input('請輸入成績'))\n",
        "if (grade >= 90):\n",
        "    print('A')\n",
        "elif (grade >= 80 and grade < 90):\n",
        "    print('B')\n",
        "elif (grade >= 70 and grade < 80):\n",
        "    print('C')\n",
        "elif (grade >= 60 and grade < 70):\n",
        "    print('D')\n",
        "else:\n",
        "    print('E')"
      ],
      "metadata": {
        "colab": {
          "base_uri": "https://localhost:8080/"
        },
        "id": "jM0dDzqtqehe",
        "outputId": "cdb2ad0e-d16d-43d0-99b1-ba9b063119c2"
      },
      "execution_count": 31,
      "outputs": [
        {
          "output_type": "stream",
          "name": "stdout",
          "text": [
            "請輸入成績50\n",
            "E\n"
          ]
        }
      ]
    },
    {
      "cell_type": "code",
      "source": [
        "month = int(input('請輸入月份'))\n",
        "if (month >= 1 and month <= 12):\n",
        "    if (month >= 3 and month <= 5):\n",
        "     print('月是春天!',sep = '')\n",
        "    elif (month >= 6  and month <= 8):\n",
        "     print('月是夏天!',sep = '')\n",
        "    elif (month >= 9  and month <= 11):\n",
        "     print('月是秋天!',sep = '')\n",
        "    else:\n",
        "     print('月是冬天!',sep = '')\n",
        "else:\n",
        "    print('月份不在範圍內')"
      ],
      "metadata": {
        "colab": {
          "base_uri": "https://localhost:8080/"
        },
        "id": "AdhN54tEsJoc",
        "outputId": "c817fba2-5e66-4b29-c0f1-3668fb1fffdf"
      },
      "execution_count": 33,
      "outputs": [
        {
          "output_type": "stream",
          "name": "stdout",
          "text": [
            "請輸入月份12\n",
            "月是冬天!\n"
          ]
        }
      ]
    },
    {
      "cell_type": "code",
      "source": [
        "income = int(input('請輸入今年收入淨額'))\n",
        "if (income >= 300000):\n",
        "    if(income >= 2000000):\n",
        "     print('付稅金額:',income * 0.3,end = '元\\n')\n",
        "    elif (income >= 1000000):\n",
        "     print('付稅金額:',income * 0.21,end = '元\\n')\n",
        "    elif (income >= 600000):\n",
        "     print('付稅金額:',income * 0.13,end = '元\\n')\n",
        "    else:\n",
        "     print('付稅金額:',income * 0.06,end = '元\\n')\n",
        "else:\n",
        "     print('付稅金額:0元')"
      ],
      "metadata": {
        "colab": {
          "base_uri": "https://localhost:8080/"
        },
        "id": "McMIulmzvrlz",
        "outputId": "dc3ddfa1-a627-4f93-e85e-65b531e441c4"
      },
      "execution_count": 38,
      "outputs": [
        {
          "output_type": "stream",
          "name": "stdout",
          "text": [
            "請輸入今年收入淨額2000000\n",
            "付稅金額: 600000.0元\n"
          ]
        }
      ]
    }
  ]
}