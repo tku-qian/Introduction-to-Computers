{
  "nbformat": 4,
  "nbformat_minor": 0,
  "metadata": {
    "colab": {
      "name": "0601.ipynb",
      "provenance": [],
      "authorship_tag": "ABX9TyOhCP0eAbLK3fAdInXo8Q4E",
      "include_colab_link": true
    },
    "kernelspec": {
      "name": "python3",
      "display_name": "Python 3"
    },
    "language_info": {
      "name": "python"
    }
  },
  "cells": [
    {
      "cell_type": "markdown",
      "metadata": {
        "id": "view-in-github",
        "colab_type": "text"
      },
      "source": [
        "<a href=\"https://colab.research.google.com/github/tku-qian/Introduction-to-Computers/blob/main/0601.ipynb\" target=\"_parent\"><img src=\"https://colab.research.google.com/assets/colab-badge.svg\" alt=\"Open In Colab\"/></a>"
      ]
    },
    {
      "cell_type": "code",
      "execution_count": null,
      "metadata": {
        "colab": {
          "base_uri": "https://localhost:8080/"
        },
        "id": "IH-nHIcom90Z",
        "outputId": "e5fbe350-d23f-4f85-e3a0-90716bb354ec"
      },
      "outputs": [
        {
          "output_type": "stream",
          "name": "stdout",
          "text": [
            "0601\n"
          ]
        }
      ],
      "source": [
        "print('0601')"
      ]
    },
    {
      "cell_type": "code",
      "source": [
        "for i in range(2,10):\n",
        "  for j in range(1,10):\n",
        "   product= i * j\n",
        "   print('%d*%d=%2d '%(i,j,product),end='')\n",
        "  print()"
      ],
      "metadata": {
        "colab": {
          "base_uri": "https://localhost:8080/"
        },
        "id": "OoaAYKZuobmx",
        "outputId": "e407600e-3e6b-428d-d0f7-65ec163e97e1"
      },
      "execution_count": null,
      "outputs": [
        {
          "output_type": "stream",
          "name": "stdout",
          "text": [
            "2*1= 2 2*2= 4 2*3= 6 2*4= 8 2*5=10 2*6=12 2*7=14 2*8=16 2*9=18 \n",
            "3*1= 3 3*2= 6 3*3= 9 3*4=12 3*5=15 3*6=18 3*7=21 3*8=24 3*9=27 \n",
            "4*1= 4 4*2= 8 4*3=12 4*4=16 4*5=20 4*6=24 4*7=28 4*8=32 4*9=36 \n",
            "5*1= 5 5*2=10 5*3=15 5*4=20 5*5=25 5*6=30 5*7=35 5*8=40 5*9=45 \n",
            "6*1= 6 6*2=12 6*3=18 6*4=24 6*5=30 6*6=36 6*7=42 6*8=48 6*9=54 \n",
            "7*1= 7 7*2=14 7*3=21 7*4=28 7*5=35 7*6=42 7*7=49 7*8=56 7*9=63 \n",
            "8*1= 8 8*2=16 8*3=24 8*4=32 8*5=40 8*6=48 8*7=56 8*8=64 8*9=72 \n",
            "9*1= 9 9*2=18 9*3=27 9*4=36 9*5=45 9*6=54 9*7=63 9*8=72 9*9=81 \n"
          ]
        }
      ]
    },
    {
      "cell_type": "code",
      "source": [
        "a = int(input('請輸入a的值:'))\n",
        "b = int(input('請輸入a的值:'))\n",
        "\n",
        "maxno = a*b\n",
        "for i in range(1,maxno+1):\n",
        "  if(i%a ==0 and i%b ==0):\n",
        "   break\n",
        "print('%d和%d的最小公倍數 = %d'%(a,b,i))"
      ],
      "metadata": {
        "colab": {
          "base_uri": "https://localhost:8080/"
        },
        "id": "AE60k3jDqJn2",
        "outputId": "1aeb39cd-69b0-4e68-fe56-04d289cf0796"
      },
      "execution_count": null,
      "outputs": [
        {
          "output_type": "stream",
          "name": "stdout",
          "text": [
            "請輸入a的值:4\n",
            "請輸入a的值:6\n",
            "4和6的最小公倍數 = 12\n"
          ]
        }
      ]
    },
    {
      "cell_type": "code",
      "source": [
        "n = int(input('請輸入一個正整數:'))\n",
        "for i in range(1,n+1):\n",
        "  if i % 5 == 0:\n",
        "    continue\n",
        "  print(i,end=' ')"
      ],
      "metadata": {
        "colab": {
          "base_uri": "https://localhost:8080/"
        },
        "id": "4FihE8Y_rfGq",
        "outputId": "f83370f5-da97-4123-d81c-f552ed3fbe5e"
      },
      "execution_count": null,
      "outputs": [
        {
          "output_type": "stream",
          "name": "stdout",
          "text": [
            "請輸入一個正整數:10\n",
            "1 2 3 4 6 7 8 9 "
          ]
        }
      ]
    },
    {
      "cell_type": "code",
      "source": [
        "total = n = 0\n",
        "while(n<= 10):\n",
        "  total += n\n",
        "  n += 1 \n",
        "print(total)"
      ],
      "metadata": {
        "colab": {
          "base_uri": "https://localhost:8080/"
        },
        "id": "X8bfh-l5tHGx",
        "outputId": "aaca8bfb-47e2-46a1-bd20-941e1cf896f5"
      },
      "execution_count": null,
      "outputs": [
        {
          "output_type": "stream",
          "name": "stdout",
          "text": [
            "55\n"
          ]
        }
      ]
    },
    {
      "cell_type": "code",
      "source": [
        "total = n = 0\n",
        "while n <= 10:\n",
        "  total += n\n",
        "  n += 1\n",
        "print(total)"
      ],
      "metadata": {
        "colab": {
          "base_uri": "https://localhost:8080/"
        },
        "id": "4VcXr1emuMr2",
        "outputId": "45ea3df6-5604-43dc-c702-2068031980ae"
      },
      "execution_count": null,
      "outputs": [
        {
          "output_type": "stream",
          "name": "stdout",
          "text": [
            "55\n"
          ]
        }
      ]
    },
    {
      "cell_type": "code",
      "source": [
        "total = n = 0\n",
        "while(n <= 10):\n",
        "  total += n\n",
        "print(total)"
      ],
      "metadata": {
        "colab": {
          "base_uri": "https://localhost:8080/",
          "height": 219
        },
        "id": "SuN1wxuBvEHH",
        "outputId": "7d081ae8-2eff-4628-a535-2336415509cb"
      },
      "execution_count": null,
      "outputs": [
        {
          "output_type": "error",
          "ename": "KeyboardInterrupt",
          "evalue": "ignored",
          "traceback": [
            "\u001b[0;31m---------------------------------------------------------------------------\u001b[0m",
            "\u001b[0;31mKeyboardInterrupt\u001b[0m                         Traceback (most recent call last)",
            "\u001b[0;32m<ipython-input-23-e5ac82a6cfcf>\u001b[0m in \u001b[0;36m<module>\u001b[0;34m()\u001b[0m\n\u001b[1;32m      1\u001b[0m \u001b[0mtotal\u001b[0m \u001b[0;34m=\u001b[0m \u001b[0mn\u001b[0m \u001b[0;34m=\u001b[0m \u001b[0;36m0\u001b[0m\u001b[0;34m\u001b[0m\u001b[0;34m\u001b[0m\u001b[0m\n\u001b[1;32m      2\u001b[0m \u001b[0;32mwhile\u001b[0m\u001b[0;34m(\u001b[0m\u001b[0mn\u001b[0m \u001b[0;34m<=\u001b[0m \u001b[0;36m10\u001b[0m\u001b[0;34m)\u001b[0m\u001b[0;34m:\u001b[0m\u001b[0;34m\u001b[0m\u001b[0;34m\u001b[0m\u001b[0m\n\u001b[0;32m----> 3\u001b[0;31m   \u001b[0mtotal\u001b[0m \u001b[0;34m+=\u001b[0m \u001b[0mn\u001b[0m\u001b[0;34m\u001b[0m\u001b[0;34m\u001b[0m\u001b[0m\n\u001b[0m\u001b[1;32m      4\u001b[0m \u001b[0mprint\u001b[0m\u001b[0;34m(\u001b[0m\u001b[0mtotal\u001b[0m\u001b[0;34m)\u001b[0m\u001b[0;34m\u001b[0m\u001b[0;34m\u001b[0m\u001b[0m\n",
            "\u001b[0;31mKeyboardInterrupt\u001b[0m: "
          ]
        }
      ]
    },
    {
      "cell_type": "code",
      "source": [
        "total = i = 1\n",
        "n=int(input('請輸入正整數n的值:'))\n",
        "while i<=n:\n",
        "  total *= i\n",
        "  i+=1\n",
        "print('%d!=%d' % (n,total))"
      ],
      "metadata": {
        "colab": {
          "base_uri": "https://localhost:8080/"
        },
        "id": "VdLjPuGIwSwa",
        "outputId": "23ba8d96-94f1-40d5-b679-6ed3fe36ee2c"
      },
      "execution_count": null,
      "outputs": [
        {
          "output_type": "stream",
          "name": "stdout",
          "text": [
            "請輸入正整數n的值:100\n",
            "100!=93326215443944152681699238856266700490715968264381621468592963895217599993229915608941463976156518286253697920827223758251185210916864000000000000000000000000\n"
          ]
        }
      ]
    },
    {
      "cell_type": "code",
      "source": [
        "total = n = 0\n",
        "while n <= 50:\n",
        "  total += n\n",
        "  n += 2\n",
        "print('0-50的偶數和結果是:',total)"
      ],
      "metadata": {
        "colab": {
          "base_uri": "https://localhost:8080/"
        },
        "id": "XjT1NnsGxyCk",
        "outputId": "38d3fb7b-0f5f-42db-d780-68e60e3106f4"
      },
      "execution_count": null,
      "outputs": [
        {
          "output_type": "stream",
          "name": "stdout",
          "text": [
            "0-50的偶數和結果是: 650\n"
          ]
        }
      ]
    },
    {
      "cell_type": "code",
      "source": [
        "total = 0\n",
        "n = 1\n",
        "while n < 50:\n",
        "  total += n\n",
        "  n += 2\n",
        "print('0-50的奇數和和結果是:',total)"
      ],
      "metadata": {
        "colab": {
          "base_uri": "https://localhost:8080/"
        },
        "id": "Qm-Eesd56Dnt",
        "outputId": "e736e4b2-49cf-4e59-b398-0956e8d994cf"
      },
      "execution_count": null,
      "outputs": [
        {
          "output_type": "stream",
          "name": "stdout",
          "text": [
            "0-50的奇數和和結果是: 625\n"
          ]
        }
      ]
    },
    {
      "cell_type": "code",
      "source": [
        "n=int(input('請輸入正整數:'))\n",
        "for i in range(1,n+1):\n",
        "  for j in range(1,n+1):\n",
        "   if j>= i:\n",
        "    print('*',end='')\n",
        "  print()"
      ],
      "metadata": {
        "colab": {
          "base_uri": "https://localhost:8080/"
        },
        "id": "QDOmMsJUzBkT",
        "outputId": "ca7d833d-67f9-4b0c-fa5e-3f5cb8b14602"
      },
      "execution_count": null,
      "outputs": [
        {
          "output_type": "stream",
          "name": "stdout",
          "text": [
            "請輸入正整數:7\n",
            "*******\n",
            "******\n",
            "*****\n",
            "****\n",
            "***\n",
            "**\n",
            "*\n"
          ]
        }
      ]
    },
    {
      "cell_type": "code",
      "source": [
        "n=int(input('請輸入正整數:'))\n",
        "for i in range(1,n+1):\n",
        "  for j in range(1,n+1):\n",
        "   if j>= i:\n",
        "    print('*',end='')\n",
        "  print()"
      ],
      "metadata": {
        "colab": {
          "base_uri": "https://localhost:8080/"
        },
        "id": "E1_lnfso11n7",
        "outputId": "7f3baed2-b1bc-41c3-accb-8646ebe349bc"
      },
      "execution_count": null,
      "outputs": [
        {
          "output_type": "stream",
          "name": "stdout",
          "text": [
            "請輸入正整數:5\n",
            "*****\n",
            "****\n",
            "***\n",
            "**\n",
            "*\n"
          ]
        }
      ]
    },
    {
      "cell_type": "code",
      "source": [
        "total = 0\n",
        "for i in range(1,101):\n",
        "  if i % 3 ==0 or i % 7 ==0:\n",
        "   total += i\n",
        "print(total)"
      ],
      "metadata": {
        "colab": {
          "base_uri": "https://localhost:8080/"
        },
        "id": "YbNDPfkQzUwS",
        "outputId": "675a2cce-6525-48e8-fbd9-05f25a284f33"
      },
      "execution_count": null,
      "outputs": [
        {
          "output_type": "stream",
          "name": "stdout",
          "text": [
            "2208\n"
          ]
        }
      ]
    },
    {
      "cell_type": "code",
      "source": [
        "o = int(input('請輸入正整數:'))\n",
        "print('%d的因數有'%o,end=' ')\n",
        "m = 1\n",
        "n = 0\n",
        "while (m <= o):\n",
        "  if(o%m == 0):\n",
        "    n += 1\n",
        "    if(o%m == 0):\n",
        "      print(m,end=' ')\n",
        "  m +=1\n",
        "if(n == 2):\n",
        "  print('\\n','%d是質數'%o,sep='')\n",
        "else:\n",
        "  print('\\n','%d不是質數'%o,sep='')"
      ],
      "metadata": {
        "colab": {
          "base_uri": "https://localhost:8080/"
        },
        "id": "FDOXXIKRzU3T",
        "outputId": "9e27f875-d685-43a9-abb8-b9b5b320c659"
      },
      "execution_count": 39,
      "outputs": [
        {
          "output_type": "stream",
          "name": "stdout",
          "text": [
            "請輸入正整數:12\n",
            "12的因數有 1 2 3 4 6 12 \n",
            "12不是質數\n"
          ]
        }
      ]
    },
    {
      "cell_type": "code",
      "source": [
        "o = int(input('請輸入正整數:'))\n",
        "print('%d的因數有'%o,end=' ')\n",
        "m = 1\n",
        "n = 0\n",
        "while (m <= o):\n",
        "  if(o%m == 0):\n",
        "    n += 1\n",
        "    if(o%m == 0):\n",
        "      print(m,end=' ')\n",
        "  m +=1\n",
        "if(n == 2):\n",
        "  print('\\n','%d是質數'%o,sep='')\n",
        "else:\n",
        "  print('\\n','%d不是質數'%o,sep='')"
      ],
      "metadata": {
        "colab": {
          "base_uri": "https://localhost:8080/"
        },
        "id": "siqaUSIgHIgd",
        "outputId": "0c65463d-51d7-4acc-fb28-b597968c2643"
      },
      "execution_count": 38,
      "outputs": [
        {
          "output_type": "stream",
          "name": "stdout",
          "text": [
            "請輸入正整數:11\n",
            "11的因數有 1 11 \n",
            "11是質數\n"
          ]
        }
      ]
    }
  ]
}